{
  "nbformat": 4,
  "nbformat_minor": 0,
  "metadata": {
    "colab": {
      "provenance": []
    },
    "kernelspec": {
      "name": "python3",
      "display_name": "Python 3"
    },
    "language_info": {
      "name": "python"
    }
  },
  "cells": [
    {
      "cell_type": "markdown",
      "source": [
        "# Loading data from Datawarehouse on Google Cloud Big Query"
      ],
      "metadata": {
        "id": "HL0dB9626RWj"
      }
    },
    {
      "cell_type": "code",
      "source": [
        "!pip install google-cloud\n",
        "!pip install google-cloud-bigquery\n",
        "!pip install pandas-gbq"
      ],
      "metadata": {
        "id": "J0_gdlfB6VX4"
      },
      "execution_count": null,
      "outputs": []
    },
    {
      "cell_type": "code",
      "source": [
        "from google.cloud import bigquery\n",
        "import pandas as pd\n",
        "import numpy as np"
      ],
      "metadata": {
        "id": "TEQteaEj6gKR"
      },
      "execution_count": 2,
      "outputs": []
    },
    {
      "cell_type": "code",
      "source": [
        "path = \"/content/drive/MyDrive/southern-ivy-378521-58bc704ea77d.json\"\n",
        "bqclient = bigquery.Client.from_service_account_json(path)"
      ],
      "metadata": {
        "id": "GFJdwdV86n6L"
      },
      "execution_count": 5,
      "outputs": []
    },
    {
      "cell_type": "code",
      "source": [
        "from google.colab import drive\n",
        "drive.mount('/content/drive')"
      ],
      "metadata": {
        "colab": {
          "base_uri": "https://localhost:8080/"
        },
        "id": "CMZpBHt3al6_",
        "outputId": "3af7aeac-0a34-44cc-cd0c-8a186e5f672b"
      },
      "execution_count": 4,
      "outputs": [
        {
          "output_type": "stream",
          "name": "stdout",
          "text": [
            "Mounted at /content/drive\n"
          ]
        }
      ]
    },
    {
      "cell_type": "code",
      "source": [
        "sql = \"\"\"\n",
        "    SELECT *\n",
        "    FROM `maps_reviews.reviews`\n",
        "\"\"\"\n",
        "result = bqclient.query(sql)\n",
        "df = result.to_dataframe()\n",
        "\n",
        "#print(df)"
      ],
      "metadata": {
        "id": "HvFXOc7N6onR"
      },
      "execution_count": 6,
      "outputs": []
    },
    {
      "cell_type": "markdown",
      "source": [
        "- Creating a new column according to the values of 'rating'\n",
        "- We're going to set values for 'rating' between 1 and 3 with 0 due to sum of both values versus sum of 4 and 5 it's only the 12% of all data.\n",
        "- Exporting in order to don't realize another transforms in PySpark."
      ],
      "metadata": {
        "id": "bg0a7bq-7KEV"
      }
    },
    {
      "cell_type": "code",
      "source": [
        "df.loc[df['rating'] <= 3, 'target'] = 0\n",
        "df.loc[df['rating'] > 3, 'target'] = 1\n",
        "df.to_csv('sentiment.csv', sep=';', index = False, encoding='utf-8')"
      ],
      "metadata": {
        "id": "3erqUKdoNy4l"
      },
      "execution_count": null,
      "outputs": []
    },
    {
      "cell_type": "code",
      "source": [
        "df['label'] = np.select((df['rating'] <= 3, df['rating'] > 3), [0,1], default='Not Specified')\n",
        "\n",
        "df.to_csv('sentiment.csv', sep=';', index = False, encoding='utf-8')"
      ],
      "metadata": {
        "id": "ogbdg4rd63X4"
      },
      "execution_count": null,
      "outputs": []
    },
    {
      "cell_type": "markdown",
      "source": [
        "# **Developing first model in Python**"
      ],
      "metadata": {
        "id": "fZeDwZrb7vvB"
      }
    },
    {
      "cell_type": "code",
      "source": [
        "df = pd.read_csv('/content/drive/MyDrive/sentiment.csv', sep=';')"
      ],
      "metadata": {
        "id": "1-yXrvx88773"
      },
      "execution_count": 11,
      "outputs": []
    },
    {
      "cell_type": "code",
      "source": [
        "df_sentiment = df[['text','rating']]\n",
        "df_sentiment = df_sentiment.head(3700845) #Trabajaremos con una cuarta parte para facilitar el desarrollo del bosquejo"
      ],
      "metadata": {
        "id": "FeMdd12v73xH"
      },
      "execution_count": 12,
      "outputs": []
    },
    {
      "cell_type": "markdown",
      "source": [
        "Some transformations"
      ],
      "metadata": {
        "id": "v5V352aL8iBP"
      }
    },
    {
      "cell_type": "code",
      "source": [
        "df_sentiment['text'] = df_sentiment['text'].astype(str)\n",
        "\n",
        "mask=(df_sentiment['text'] == 'nan')\n",
        "df_sentiment.loc[mask, 'text'] = 'sin comentario'"
      ],
      "metadata": {
        "id": "mE0DvPhF8M-I"
      },
      "execution_count": 13,
      "outputs": []
    },
    {
      "cell_type": "code",
      "source": [
        "df_sentiment.loc[df['rating'] <= 3, 'target'] = 0\n",
        "df_sentiment.loc[df['rating'] > 3, 'target'] = 1"
      ],
      "metadata": {
        "id": "PFKCItHNOtsY"
      },
      "execution_count": 14,
      "outputs": []
    },
    {
      "cell_type": "markdown",
      "source": [
        "Importing modules, libraries and building model"
      ],
      "metadata": {
        "id": "7XqXj44o9aJH"
      }
    },
    {
      "cell_type": "code",
      "source": [
        "from sklearn.feature_extraction.text import CountVectorizer\n",
        "from sklearn.model_selection import train_test_split\n",
        "from sklearn.naive_bayes import MultinomialNB\n",
        "from sklearn import metrics\n",
        "from nltk.tokenize import RegexpTokenizer"
      ],
      "metadata": {
        "id": "GyeUqqJ08gwS"
      },
      "execution_count": 16,
      "outputs": []
    },
    {
      "cell_type": "code",
      "source": [
        "token = RegexpTokenizer(r'[a-zA-Z0-9]')\n",
        "cv = CountVectorizer(lowercase=True, ngram_range=(1,2), tokenizer=token.tokenize)\n",
        "text_counts= cv.fit_transform(df_sentiment['text'])"
      ],
      "metadata": {
        "id": "2TnIv5aT9nPh"
      },
      "execution_count": 17,
      "outputs": []
    },
    {
      "cell_type": "code",
      "source": [
        "X_train, X_test, y_train, y_test = train_test_split(text_counts, df_sentiment['target'], test_size=0.5, random_state=1)"
      ],
      "metadata": {
        "id": "YA8DSUpc9yre"
      },
      "execution_count": 18,
      "outputs": []
    },
    {
      "cell_type": "code",
      "source": [
        "clf = MultinomialNB().fit(X_train, y_train)\n",
        "\n",
        "predicted = clf.predict(X_test)\n",
        "\n",
        "print(\"MultinomialNB Accuracy:\", metrics.accuracy_score(y_test, predicted))"
      ],
      "metadata": {
        "id": "1AK7WAH094hg",
        "colab": {
          "base_uri": "https://localhost:8080/"
        },
        "outputId": "944216c4-2055-4367-b1cd-9ce45a21f31b"
      },
      "execution_count": 19,
      "outputs": [
        {
          "output_type": "stream",
          "name": "stdout",
          "text": [
            "MultinomialNB Accuracy: 0.7900312523136602\n"
          ]
        }
      ]
    },
    {
      "cell_type": "markdown",
      "source": [
        "# Developing a Machine Learning Model using PySpark"
      ],
      "metadata": {
        "id": "plJaaDpF9gRi"
      }
    },
    {
      "cell_type": "code",
      "execution_count": 22,
      "metadata": {
        "id": "CFxUgtH0pTjq"
      },
      "outputs": [],
      "source": [
        "!apt-get install openjdk-11-jdk-headless -qq > /dev/null\n",
        "!wget -q http://apache.osuosl.org/spark/spark-3.3.2/spark-3.3.2-bin-hadoop2.tgz \n",
        "!tar xf spark-3.3.2-bin-hadoop2.tgz \n",
        "!pip install -q findspark"
      ]
    },
    {
      "cell_type": "code",
      "source": [
        "import os\n",
        "os.environ[\"JAVA_HOME\"] = \"/usr/lib/jvm/java-11-openjdk-amd64\"\n",
        "os.environ[\"SPARK_HOME\"] = \"/content/spark-3.3.2-bin-hadoop2\""
      ],
      "metadata": {
        "id": "JLzucY3zp5jM"
      },
      "execution_count": 20,
      "outputs": []
    },
    {
      "cell_type": "code",
      "source": [
        "import findspark\n",
        "findspark.init()\n",
        "from pyspark.sql import SparkSession\n",
        "from pyspark import SparkContext\n",
        "sqlSession = SparkSession.builder.master(\"local[*]\").getOrCreate()\n",
        "sc = SparkContext.getOrCreate()"
      ],
      "metadata": {
        "id": "u0hfZ7jrppkO"
      },
      "execution_count": 23,
      "outputs": []
    },
    {
      "cell_type": "code",
      "source": [
        "sc.stop()"
      ],
      "metadata": {
        "id": "sa7QsRACrJcd"
      },
      "execution_count": 24,
      "outputs": []
    },
    {
      "cell_type": "code",
      "source": [
        "#spark.sparkContext.stop()\n",
        "#spark.stop()\n",
        "#exit()"
      ],
      "metadata": {
        "id": "TSK7v9Y-r1wn"
      },
      "execution_count": null,
      "outputs": []
    },
    {
      "cell_type": "code",
      "source": [
        "import findspark\n",
        "findspark.init()\n",
        "from pyspark.sql.types import *\n",
        "from pyspark.sql.functions import *\n",
        "from pyspark.ml.classification import LogisticRegression\n",
        "from pyspark.ml.feature import HashingTF, Tokenizer, StopWordsRemover\n",
        "\n",
        "#create Spark session\n",
        "appName = \"Sentiment analysis in Spark\"\n",
        "spark = SparkSession \\\n",
        "    .builder \\\n",
        "    .appName(appName) \\\n",
        "    .config(\"spark.some.config.option\", \"some-value\") \\\n",
        "    .getOrCreate()"
      ],
      "metadata": {
        "id": "JQVVAzvlq7pV"
      },
      "execution_count": 25,
      "outputs": []
    },
    {
      "cell_type": "code",
      "source": [
        "path = '/content/drive/MyDrive/sentiment.csv'\n",
        "rewiews_csv = spark.read.option(\"delimiter\", \";\").option(\"header\", \"true\").csv(path)\n",
        "rewiews_csv.show(truncate=False, n=5)"
      ],
      "metadata": {
        "colab": {
          "base_uri": "https://localhost:8080/"
        },
        "id": "MSXAm5oIrU-o",
        "outputId": "5c33ea3c-8d4c-4a80-95f4-cd30c7230932"
      },
      "execution_count": 26,
      "outputs": [
        {
          "output_type": "stream",
          "name": "stdout",
          "text": [
            "+-------------------------------------+-------+------------+------+--------------------------------------------------------------------+-----+\n",
            "|gmap_id                              |id_meta|state       |rating|text                                                                |label|\n",
            "+-------------------------------------+-------+------------+------+--------------------------------------------------------------------+-----+\n",
            "|0x52c8cb501767dc7b:0xf619a34f077c0cc8|360729 |North_Dakota|5     |Very nice staff that work one on one with you to find what you want.|1    |\n",
            "|0x52cf94b3e465060d:0xfa49847af84d53fd|376057 |North_Dakota|5     |Servers were kind, the food was great, and the whole place clean!   |1    |\n",
            "|0x52d244756c0e8cf3:0x4d2ee009c9dd3034|369512 |South_Dakota|5     |Love this place always awesome. Great food.                         |1    |\n",
            "|0x533a741a38ac4e4d:0x9325dd4d13b24e27|237209 |Montana     |5     |null                                                                |1    |\n",
            "|0x53453802beab5837:0x6d402c32e3e112df|372589 |Montana     |5     |null                                                                |1    |\n",
            "+-------------------------------------+-------+------------+------+--------------------------------------------------------------------+-----+\n",
            "only showing top 5 rows\n",
            "\n"
          ]
        }
      ]
    },
    {
      "cell_type": "markdown",
      "source": [
        "Imputing null values in 'text' column"
      ],
      "metadata": {
        "id": "IPJwArimX064"
      }
    },
    {
      "cell_type": "code",
      "source": [
        "#colNames = {\"text\"}\n",
        "rewiews_csv = rewiews_csv.na.fill(\"not commented\", 'text')"
      ],
      "metadata": {
        "id": "d-nW41YOXokx"
      },
      "execution_count": 27,
      "outputs": []
    },
    {
      "cell_type": "code",
      "source": [
        "import re, string\n",
        "string.punctuation\n",
        "\n",
        "punc = '!\"#$%&\\'()*+,./:;<=>?@[\\\\]^_`{|}~'\n",
        "\n",
        "def sin_lower_spc(x):\n",
        "    converted = x.encode('utf-8')\n",
        "    lowercased_str = converted.lower()\n",
        "    # for more difficult cases use re.split(' A|B')\n",
        "    lowercased_str = lowercased_str.replace('--',' ')\n",
        "    clean_str = lowercased_str.translate(None, punc) #Change 1\n",
        "    return clean_str"
      ],
      "metadata": {
        "id": "XX8_4eY8JQ94"
      },
      "execution_count": 28,
      "outputs": []
    },
    {
      "cell_type": "code",
      "source": [
        "rewiews_csv.show(truncate=False, n=5)"
      ],
      "metadata": {
        "colab": {
          "base_uri": "https://localhost:8080/"
        },
        "id": "B-AcM5IrY9Be",
        "outputId": "25302509-43c9-4415-b616-485c5aa2e94d"
      },
      "execution_count": 29,
      "outputs": [
        {
          "output_type": "stream",
          "name": "stdout",
          "text": [
            "+-------------------------------------+-------+------------+------+--------------------------------------------------------------------+-----+\n",
            "|gmap_id                              |id_meta|state       |rating|text                                                                |label|\n",
            "+-------------------------------------+-------+------------+------+--------------------------------------------------------------------+-----+\n",
            "|0x52c8cb501767dc7b:0xf619a34f077c0cc8|360729 |North_Dakota|5     |Very nice staff that work one on one with you to find what you want.|1    |\n",
            "|0x52cf94b3e465060d:0xfa49847af84d53fd|376057 |North_Dakota|5     |Servers were kind, the food was great, and the whole place clean!   |1    |\n",
            "|0x52d244756c0e8cf3:0x4d2ee009c9dd3034|369512 |South_Dakota|5     |Love this place always awesome. Great food.                         |1    |\n",
            "|0x533a741a38ac4e4d:0x9325dd4d13b24e27|237209 |Montana     |5     |not commented                                                       |1    |\n",
            "|0x53453802beab5837:0x6d402c32e3e112df|372589 |Montana     |5     |not commented                                                       |1    |\n",
            "+-------------------------------------+-------+------------+------+--------------------------------------------------------------------+-----+\n",
            "only showing top 5 rows\n",
            "\n"
          ]
        }
      ]
    },
    {
      "cell_type": "code",
      "source": [
        "data = rewiews_csv.select('text','label')\n",
        "data.show(n=5)"
      ],
      "metadata": {
        "colab": {
          "base_uri": "https://localhost:8080/"
        },
        "id": "SGiuWwFtrnvq",
        "outputId": "8c5710dc-3188-42a6-8a21-7343a590e1a2"
      },
      "execution_count": 30,
      "outputs": [
        {
          "output_type": "stream",
          "name": "stdout",
          "text": [
            "+--------------------+-----+\n",
            "|                text|label|\n",
            "+--------------------+-----+\n",
            "|Very nice staff t...|    1|\n",
            "|Servers were kind...|    1|\n",
            "|Love this place a...|    1|\n",
            "|       not commented|    1|\n",
            "|       not commented|    1|\n",
            "+--------------------+-----+\n",
            "only showing top 5 rows\n",
            "\n"
          ]
        }
      ]
    },
    {
      "cell_type": "markdown",
      "source": [
        "Cleaning 'text' column because it has many differents of special characters, emojis"
      ],
      "metadata": {
        "id": "WQY7Xo9WITJ-"
      }
    },
    {
      "cell_type": "code",
      "source": [
        "from nltk.stem import SnowballStemmer\n",
        "from nltk.stem.wordnet import WordNetLemmatizer\n",
        "from nltk.tokenize import sent_tokenize, word_tokenize\n",
        "from nltk.corpus import stopwords\n",
        "import string\n",
        "import nltk"
      ],
      "metadata": {
        "id": "J9oWHhX9IrYV"
      },
      "execution_count": 31,
      "outputs": []
    },
    {
      "cell_type": "code",
      "source": [
        "palabras = [x for x in word_tokenize(text.lower()) if x not in stop_words + list(string.punctuation)]\n",
        "for x in data.columns if x not in list(string.punctuation) #no lo he ensayado porque deberia ser en python"
      ],
      "metadata": {
        "id": "oZruqJpCIldo"
      },
      "execution_count": null,
      "outputs": []
    },
    {
      "cell_type": "code",
      "source": [
        "#tambien me funcionó\n",
        "import pyspark.sql.functions as F\n",
        "from pyspark.sql import types as T\n",
        "import re\n",
        "\n",
        "data = data.select([F.col(col).alias(re.sub(\"[^0-9a-zA-Z$]+\",\"\",col)) for col in data.columns])"
      ],
      "metadata": {
        "id": "T7aOADvuNtzX"
      },
      "execution_count": 33,
      "outputs": []
    },
    {
      "cell_type": "code",
      "source": [
        "#esta funcionó\n",
        "\n",
        "import re\n",
        "\n",
        "#replacing all the special characters using list comprehension\n",
        "[re.sub('[\\)|\\(|\\s|,|%]','',x) for x in data.columns]\n",
        "#['id', 'id', 'id', 'ik', 'ij']\n",
        "\n",
        "data.toDF(*[re.sub('[\\)|\\(|\\s|,|%]','',x) for x in data.columns])\n",
        "#DataFrame[id: string, id: string, id: string, ik: string, ij: string]"
      ],
      "metadata": {
        "colab": {
          "base_uri": "https://localhost:8080/"
        },
        "id": "u2PpGLAkHRFO",
        "outputId": "db1d8a0d-80cf-446f-c948-82dab4abd828"
      },
      "execution_count": 34,
      "outputs": [
        {
          "output_type": "execute_result",
          "data": {
            "text/plain": [
              "DataFrame[text: string, label: string]"
            ]
          },
          "metadata": {},
          "execution_count": 34
        }
      ]
    },
    {
      "cell_type": "code",
      "source": [
        "#Esta tambien\n",
        "data = data.withColumn(\n",
        "    \"text_c\",\n",
        "    F.regexp_replace(F.regexp_replace(\"text\", \"[^\\x00-\\x7F]+\", \"\"), '\"\"', '')\n",
        ")"
      ],
      "metadata": {
        "id": "Z3WF5hMNIC9n"
      },
      "execution_count": 35,
      "outputs": []
    },
    {
      "cell_type": "code",
      "source": [
        "#esto esta bueno solo ejecutelo\n",
        "splitData = data.randomSplit([0.6, 0.4]) \n",
        "trainingData = splitData[0] #index 0 = data training\n",
        "testingData = splitData[1] #index 1 = data testing\n",
        "train_rows = trainingData.count()\n",
        "test_rows = testingData.count()\n",
        "print (\"Training data rows:\", train_rows, \"; Testing data rows:\", test_rows)"
      ],
      "metadata": {
        "colab": {
          "base_uri": "https://localhost:8080/"
        },
        "id": "1TmlxFsGJRKG",
        "outputId": "79fee85c-cdbc-453a-91f1-23225d9dd934"
      },
      "execution_count": 36,
      "outputs": [
        {
          "output_type": "stream",
          "name": "stdout",
          "text": [
            "Training data rows: 8876942 ; Testing data rows: 5926362\n"
          ]
        }
      ]
    },
    {
      "cell_type": "code",
      "source": [
        "tokenizer = Tokenizer(inputCol=\"text\", outputCol=\"sentimentText\")\n",
        "tokenizedTrain = tokenizer.transform(trainingData)\n",
        "tokenizedTrain.show(truncate=False, n=5)"
      ],
      "metadata": {
        "colab": {
          "base_uri": "https://localhost:8080/"
        },
        "id": "opiG5A3Uvc3W",
        "outputId": "c27eaf5c-6c65-437a-8902-7ec3931f01cb"
      },
      "execution_count": 37,
      "outputs": [
        {
          "output_type": "stream",
          "name": "stdout",
          "text": [
            "+----------------------------------------------------------------------------------------------------------------------------------------------------------------------------------------------------------------------------------------------------------------+-----+----------------------------------------------------------------------------------------------------------------------------------------------------------------------------------------------------------------------------------------------------------------+-------------------------------------------------------------------------------------------------------------------------------------------------------------------------------------------------------------------------------------------------------------------------------------------------------------------+\n",
            "|text                                                                                                                                                                                                                                                            |label|text_c                                                                                                                                                                                                                                                          |sentimentText                                                                                                                                                                                                                                                                                                      |\n",
            "+----------------------------------------------------------------------------------------------------------------------------------------------------------------------------------------------------------------------------------------------------------------+-----+----------------------------------------------------------------------------------------------------------------------------------------------------------------------------------------------------------------------------------------------------------------+-------------------------------------------------------------------------------------------------------------------------------------------------------------------------------------------------------------------------------------------------------------------------------------------------------------------+\n",
            "|!!!!!!@                                                                                                                                                                                                                                                         |1    |!!!!!!@                                                                                                                                                                                                                                                         |[!!!!!!@]                                                                                                                                                                                                                                                                                                          |\n",
            "|!!!Good place!!!                                                                                                                                                                                                                                                |1    |!!!Good place!!!                                                                                                                                                                                                                                                |[!!!good, place!!!]                                                                                                                                                                                                                                                                                                |\n",
            "|!!THE WORST POSSIBLE COMPANY TO RENT FROM!! On top of RAISING THE RENT twice in the past half a year, they gave me a  parking permit sticker for my truck and a week later had it towed.I only rated it one star because there's no lower rating. Dirty Crooks!!|0    |!!THE WORST POSSIBLE COMPANY TO RENT FROM!! On top of RAISING THE RENT twice in the past half a year, they gave me a  parking permit sticker for my truck and a week later had it towed.I only rated it one star because there's no lower rating. Dirty Crooks!!|[!!the, worst, possible, company, to, rent, from!!, on, top, of, raising, the, rent, twice, in, the, past, half, a, year,, they, gave, me, a, , parking, permit, sticker, for, my, truck, and, a, week, later, had, it, towed.i, only, rated, it, one, star, because, there's, no, lower, rating., dirty, crooks!!]|\n",
            "|!Great addition to this community . Amazing food                                                                                                                                                                                                                |1    |!Great addition to this community . Amazing food                                                                                                                                                                                                                |[!great, addition, to, this, community, ., amazing, food]                                                                                                                                                                                                                                                          |\n",
            "|\"\"\" Awesome \"\"\"                                                                                                                                                                                                                                                 |1    |\" Awesome \"                                                                                                                                                                                                                                                     |[\"\"\", awesome, \"\"\"]                                                                                                                                                                                                                                                                                                |\n",
            "+----------------------------------------------------------------------------------------------------------------------------------------------------------------------------------------------------------------------------------------------------------------+-----+----------------------------------------------------------------------------------------------------------------------------------------------------------------------------------------------------------------------------------------------------------------+-------------------------------------------------------------------------------------------------------------------------------------------------------------------------------------------------------------------------------------------------------------------------------------------------------------------+\n",
            "only showing top 5 rows\n",
            "\n"
          ]
        }
      ]
    },
    {
      "cell_type": "code",
      "source": [
        "swr = StopWordsRemover(inputCol=tokenizer.getOutputCol(), \n",
        "                       outputCol=\"MeaningfulWords\")\n",
        "SwRemovedTrain = swr.transform(tokenizedTrain)\n",
        "SwRemovedTrain.show(truncate=False, n=5)"
      ],
      "metadata": {
        "colab": {
          "base_uri": "https://localhost:8080/"
        },
        "id": "guc7THAtGENv",
        "outputId": "00ee4722-a34c-4c13-eff9-8da7377e890a"
      },
      "execution_count": 38,
      "outputs": [
        {
          "output_type": "stream",
          "name": "stdout",
          "text": [
            "+----------------------------------------------------------------------------------------------------------------------------------------------------------------------------------------------------------------------------------------------------------------+-----+----------------------------------------------------------------------------------------------------------------------------------------------------------------------------------------------------------------------------------------------------------------+-------------------------------------------------------------------------------------------------------------------------------------------------------------------------------------------------------------------------------------------------------------------------------------------------------------------+---------------------------------------------------------------------------------------------------------------------------------------------------------------------------------------------------------------+\n",
            "|text                                                                                                                                                                                                                                                            |label|text_c                                                                                                                                                                                                                                                          |sentimentText                                                                                                                                                                                                                                                                                                      |MeaningfulWords                                                                                                                                                                                                |\n",
            "+----------------------------------------------------------------------------------------------------------------------------------------------------------------------------------------------------------------------------------------------------------------+-----+----------------------------------------------------------------------------------------------------------------------------------------------------------------------------------------------------------------------------------------------------------------+-------------------------------------------------------------------------------------------------------------------------------------------------------------------------------------------------------------------------------------------------------------------------------------------------------------------+---------------------------------------------------------------------------------------------------------------------------------------------------------------------------------------------------------------+\n",
            "|!!!!!!@                                                                                                                                                                                                                                                         |1    |!!!!!!@                                                                                                                                                                                                                                                         |[!!!!!!@]                                                                                                                                                                                                                                                                                                          |[!!!!!!@]                                                                                                                                                                                                      |\n",
            "|!!!Good place!!!                                                                                                                                                                                                                                                |1    |!!!Good place!!!                                                                                                                                                                                                                                                |[!!!good, place!!!]                                                                                                                                                                                                                                                                                                |[!!!good, place!!!]                                                                                                                                                                                            |\n",
            "|!!THE WORST POSSIBLE COMPANY TO RENT FROM!! On top of RAISING THE RENT twice in the past half a year, they gave me a  parking permit sticker for my truck and a week later had it towed.I only rated it one star because there's no lower rating. Dirty Crooks!!|0    |!!THE WORST POSSIBLE COMPANY TO RENT FROM!! On top of RAISING THE RENT twice in the past half a year, they gave me a  parking permit sticker for my truck and a week later had it towed.I only rated it one star because there's no lower rating. Dirty Crooks!!|[!!the, worst, possible, company, to, rent, from!!, on, top, of, raising, the, rent, twice, in, the, past, half, a, year,, they, gave, me, a, , parking, permit, sticker, for, my, truck, and, a, week, later, had, it, towed.i, only, rated, it, one, star, because, there's, no, lower, rating., dirty, crooks!!]|[!!the, worst, possible, company, rent, from!!, top, raising, rent, twice, past, half, year,, gave, , parking, permit, sticker, truck, week, later, towed.i, rated, one, star, lower, rating., dirty, crooks!!]|\n",
            "|!Great addition to this community . Amazing food                                                                                                                                                                                                                |1    |!Great addition to this community . Amazing food                                                                                                                                                                                                                |[!great, addition, to, this, community, ., amazing, food]                                                                                                                                                                                                                                                          |[!great, addition, community, ., amazing, food]                                                                                                                                                                |\n",
            "|\"\"\" Awesome \"\"\"                                                                                                                                                                                                                                                 |1    |\" Awesome \"                                                                                                                                                                                                                                                     |[\"\"\", awesome, \"\"\"]                                                                                                                                                                                                                                                                                                |[\"\"\", awesome, \"\"\"]                                                                                                                                                                                            |\n",
            "+----------------------------------------------------------------------------------------------------------------------------------------------------------------------------------------------------------------------------------------------------------------+-----+----------------------------------------------------------------------------------------------------------------------------------------------------------------------------------------------------------------------------------------------------------------+-------------------------------------------------------------------------------------------------------------------------------------------------------------------------------------------------------------------------------------------------------------------------------------------------------------------+---------------------------------------------------------------------------------------------------------------------------------------------------------------------------------------------------------------+\n",
            "only showing top 5 rows\n",
            "\n"
          ]
        }
      ]
    },
    {
      "cell_type": "code",
      "source": [
        "hashTF = HashingTF(inputCol=swr.getOutputCol(), outputCol=\"features\")\n",
        "numericTrainData = hashTF.transform(SwRemovedTrain).select(\n",
        "    'label', 'MeaningfulWords', 'features')\n",
        "numericTrainData.show(truncate=False, n=5)"
      ],
      "metadata": {
        "colab": {
          "base_uri": "https://localhost:8080/"
        },
        "id": "gRVmu3NHsjka",
        "outputId": "8e82ea7e-b7fd-4f1e-ff4e-06411592b5c6"
      },
      "execution_count": 40,
      "outputs": [
        {
          "output_type": "stream",
          "name": "stdout",
          "text": [
            "+-----+---------------------------------------------------------------------------------------------------------------------------------------------------------------------------------------------------------------+-----------------------------------------------------------------------------------------------------------------------------------------------------------------------------------------------------------------------------------------------------------------------------------------------------------------------+\n",
            "|label|MeaningfulWords                                                                                                                                                                                                |features                                                                                                                                                                                                                                                                                                               |\n",
            "+-----+---------------------------------------------------------------------------------------------------------------------------------------------------------------------------------------------------------------+-----------------------------------------------------------------------------------------------------------------------------------------------------------------------------------------------------------------------------------------------------------------------------------------------------------------------+\n",
            "|1    |[!!!!!!@]                                                                                                                                                                                                      |(262144,[256404],[1.0])                                                                                                                                                                                                                                                                                                |\n",
            "|1    |[!!!good, place!!!]                                                                                                                                                                                            |(262144,[53269,240106],[1.0,1.0])                                                                                                                                                                                                                                                                                      |\n",
            "|0    |[!!the, worst, possible, company, rent, from!!, top, raising, rent, twice, past, half, year,, gave, , parking, permit, sticker, truck, week, later, towed.i, rated, one, star, lower, rating., dirty, crooks!!]|(262144,[17252,18176,21823,38573,52471,66109,76015,82062,96611,107238,131747,133803,137648,147452,149982,158831,193920,196946,204879,213314,214564,226094,227860,231700,233502,244435,249180,250555],[1.0,1.0,1.0,1.0,2.0,1.0,1.0,1.0,1.0,1.0,1.0,1.0,1.0,1.0,1.0,1.0,1.0,1.0,1.0,1.0,1.0,1.0,1.0,1.0,1.0,1.0,1.0,1.0])|\n",
            "|1    |[!great, addition, community, ., amazing, food]                                                                                                                                                                |(262144,[34366,45404,86469,121133,199468,247133],[1.0,1.0,1.0,1.0,1.0,1.0])                                                                                                                                                                                                                                            |\n",
            "|1    |[\"\"\", awesome, \"\"\"]                                                                                                                                                                                            |(262144,[63132,219897],[2.0,1.0])                                                                                                                                                                                                                                                                                      |\n",
            "+-----+---------------------------------------------------------------------------------------------------------------------------------------------------------------------------------------------------------------+-----------------------------------------------------------------------------------------------------------------------------------------------------------------------------------------------------------------------------------------------------------------------------------------------------------------------+\n",
            "only showing top 5 rows\n",
            "\n"
          ]
        }
      ]
    },
    {
      "cell_type": "code",
      "source": [
        "numericTrainData"
      ],
      "metadata": {
        "colab": {
          "base_uri": "https://localhost:8080/"
        },
        "id": "-ifjqX40_Djc",
        "outputId": "e59c2600-9f8e-4b16-fe54-630e5ce8a6f7"
      },
      "execution_count": 41,
      "outputs": [
        {
          "output_type": "execute_result",
          "data": {
            "text/plain": [
              "DataFrame[label: string, MeaningfulWords: array<string>, features: vector]"
            ]
          },
          "metadata": {},
          "execution_count": 41
        }
      ]
    },
    {
      "cell_type": "code",
      "source": [
        "############ Funtion in Python for Emoji removal - FACU"
      ],
      "metadata": {
        "id": "YpNzNbFg--ze"
      },
      "execution_count": null,
      "outputs": []
    },
    {
      "cell_type": "code",
      "source": [
        "!pip install emot #Emoji Library Installation"
      ],
      "metadata": {
        "id": "qjmyDZwTtV0H"
      },
      "execution_count": null,
      "outputs": []
    },
    {
      "cell_type": "code",
      "source": [
        "import re\n",
        "import pickle\n",
        "from emot.emo_unicode import UNICODE_EMOJI, EMOTICONS_EMO"
      ],
      "metadata": {
        "id": "42O6pdpJtpym"
      },
      "execution_count": null,
      "outputs": []
    },
    {
      "cell_type": "code",
      "source": [
        "import re #Funtion to remove EMOJIS\n",
        "def remove_emoji(string):\n",
        "    emoji_pattern = re.compile(\"[\"\n",
        "                           u\"\\U0001F600-\\U0001F64F\" # emoticons\n",
        "                           u\"\\U0001F300-\\U0001F5FF\" # symbols & pictographs\n",
        "                           u\"\\U0001F680-\\U0001F6FF\" # transport & map symbols\n",
        "                           u\"\\U0001F1E0-\\U0001F1FF\" # flags (iOS)\n",
        "                           u\"\\U00002702-\\U000027B0\"\n",
        "                           u\"\\U000024C2-\\U0001F251\"\n",
        "                           \"]+\", flags=re.UNICODE)\n",
        "    return emoji_pattern.sub(r'', string)\n",
        "\n",
        "remove_emoji(\"Hilarious 😂! The feeling of making a sale 😎, The feeling of actually fulfilling orders 😒\")"
      ],
      "metadata": {
        "colab": {
          "base_uri": "https://localhost:8080/",
          "height": 35
        },
        "id": "rcJkxSoouY5M",
        "outputId": "d68ae046-906d-4052-b427-6ae0f879daf5"
      },
      "execution_count": null,
      "outputs": [
        {
          "output_type": "execute_result",
          "data": {
            "text/plain": [
              "'Hilarious ! The feeling of making a sale , The feeling of actually fulfilling orders '"
            ],
            "application/vnd.google.colaboratory.intrinsic+json": {
              "type": "string"
            }
          },
          "metadata": {},
          "execution_count": 38
        }
      ]
    },
    {
      "cell_type": "code",
      "source": [
        "df_sentiment['text'] = df_sentiment['text'].apply(remove_emoji)\n"
      ],
      "metadata": {
        "id": "hEaVvOyHzb3-"
      },
      "execution_count": null,
      "outputs": []
    },
    {
      "cell_type": "code",
      "source": [
        "df_sentiment['text'].head(10)"
      ],
      "metadata": {
        "colab": {
          "base_uri": "https://localhost:8080/"
        },
        "id": "uFdp5IO9wotu",
        "outputId": "cb9da314-f6be-4a96-ecca-58278f9d4c01"
      },
      "execution_count": null,
      "outputs": [
        {
          "output_type": "execute_result",
          "data": {
            "text/plain": [
              "0    Very nice staff that work one on one with you ...\n",
              "1    Servers were kind, the food was great, and the...\n",
              "2          Love this place always awesome. Great food.\n",
              "3                                       sin comentario\n",
              "4                                       sin comentario\n",
              "5                       Best ribs, wings, and burgers!\n",
              "6                                       sin comentario\n",
              "7                         Great service and atmosphere\n",
              "8                                       sin comentario\n",
              "9                                       sin comentario\n",
              "Name: text, dtype: object"
            ]
          },
          "metadata": {},
          "execution_count": 63
        }
      ]
    },
    {
      "cell_type": "code",
      "source": [
        "###################"
      ],
      "metadata": {
        "id": "HhSm7sSi-7rb"
      },
      "execution_count": null,
      "outputs": []
    },
    {
      "cell_type": "code",
      "source": [
        "numericTrainData =  numericTrainData.withColumn(\"label\",col(\"label\").cast(\"Integer\"))"
      ],
      "metadata": {
        "id": "T8C9mEPK-7jX"
      },
      "execution_count": 42,
      "outputs": []
    },
    {
      "cell_type": "code",
      "source": [
        "numericTrainData"
      ],
      "metadata": {
        "colab": {
          "base_uri": "https://localhost:8080/"
        },
        "id": "lofzUGwhBu3S",
        "outputId": "6e2438b9-65ca-43ec-a90d-97eb0f231c0a"
      },
      "execution_count": null,
      "outputs": [
        {
          "output_type": "execute_result",
          "data": {
            "text/plain": [
              "DataFrame[label: int, MeaningfulWords: array<string>, features: vector]"
            ]
          },
          "metadata": {},
          "execution_count": 86
        }
      ]
    },
    {
      "cell_type": "markdown",
      "source": [
        "Train our classifier model using training data"
      ],
      "metadata": {
        "id": "VDarhx_vX2aP"
      }
    },
    {
      "cell_type": "code",
      "source": [
        "lr = LogisticRegression(labelCol=\"label\", featuresCol=\"features\", \n",
        "                        maxIter=10, regParam=0.01)\n",
        "model = lr.fit(numericTrainData)\n",
        "print (\"Training is done!\")"
      ],
      "metadata": {
        "colab": {
          "base_uri": "https://localhost:8080/"
        },
        "id": "_Am-PkrF9GIL",
        "outputId": "2c0f6c19-141c-43a8-ff5b-3ac90ef78ca2"
      },
      "execution_count": 43,
      "outputs": [
        {
          "output_type": "stream",
          "name": "stdout",
          "text": [
            "Training is done!\n"
          ]
        }
      ]
    },
    {
      "cell_type": "markdown",
      "source": [
        "Prepare testing data"
      ],
      "metadata": {
        "id": "nF0eAAv1XzaS"
      }
    },
    {
      "cell_type": "code",
      "source": [
        "tokenizedTest = tokenizer.transform(testingData)\n",
        "SwRemovedTest = swr.transform(tokenizedTest)\n",
        "numericTest = hashTF.transform(SwRemovedTest).select(\n",
        "    'Label', 'MeaningfulWords', 'features')\n",
        "numericTest.show(truncate=False, n=2)"
      ],
      "metadata": {
        "id": "QfX7xACiE6iO",
        "colab": {
          "base_uri": "https://localhost:8080/"
        },
        "outputId": "916e2dfe-3f1a-49ca-ad94-9deaf14c2a02"
      },
      "execution_count": 44,
      "outputs": [
        {
          "output_type": "stream",
          "name": "stdout",
          "text": [
            "+-----+---------------------------------------------------------------------------------------------------------------------------------------------------------------------------------------------------------------------------------------------------------------------------------------------------------------------------------------------------------------------------------------------------------------------------------------------------------------------------------------------------+-------------------------------------------------------------------------------------------------------------------------------------------------------------------------------------------------------------------------------------------------------------------------------------------------------------------------------------------------------------------------------------------------------------------------------------------------------------------------------------------------------------------------------------------------------------------------------------------------------------+\n",
            "|Label|MeaningfulWords                                                                                                                                                                                                                                                                                                                                                                                                                                                                                    |features                                                                                                                                                                                                                                                                                                                                                                                                                                                                                                                                                                                                     |\n",
            "+-----+---------------------------------------------------------------------------------------------------------------------------------------------------------------------------------------------------------------------------------------------------------------------------------------------------------------------------------------------------------------------------------------------------------------------------------------------------------------------------------------------------+-------------------------------------------------------------------------------------------------------------------------------------------------------------------------------------------------------------------------------------------------------------------------------------------------------------------------------------------------------------------------------------------------------------------------------------------------------------------------------------------------------------------------------------------------------------------------------------------------------------+\n",
            "|0    |[!!!!!!!, avoid, cost!!!!!, rude,, lazy, ignorant, assistant, manager!, apparently, tell, difference, pork, turkey, cheese, cheese., screw, deliver, correct, one, home, even, 1.36, miles, away., fualt, incompetent, staff/, self, put, sandwich, together, accordance, receipt, front, their/, eye's., wife, went, back, fix, order, rude, point, hostility., trainee, apologized, mistake....., trainee...., kidding, me., top, still, screwed, order, called, fix, still, cheese., morons!!!!]|(262144,[1689,3834,17373,17893,18176,19583,21823,31536,35089,40873,43471,48648,51504,52468,55526,57243,59873,60741,68814,68848,77751,81867,84796,85530,94033,98586,103497,104970,117484,123331,132270,135089,143270,146139,147224,148880,151575,167290,171347,171508,174966,176297,180587,201517,209658,218360,232430,237532,239374,242178,245299,253806,259019,259502,260339],[1.0,1.0,1.0,1.0,1.0,1.0,1.0,2.0,1.0,1.0,1.0,1.0,1.0,1.0,1.0,1.0,1.0,1.0,1.0,1.0,1.0,1.0,1.0,1.0,1.0,2.0,1.0,1.0,1.0,1.0,1.0,2.0,1.0,1.0,1.0,1.0,1.0,1.0,1.0,1.0,1.0,1.0,1.0,1.0,1.0,1.0,1.0,2.0,1.0,1.0,1.0,1.0,1.0,1.0,1.0])|\n",
            "|1    |[!!!!!!!!!update, !!!!!!!!, , , went, back, alot, better, last, time.., , , , , , , , , , , , , , , , , , , , , , , , , , , , , , , , that,, go, time, time,, prices, good,, staff, nice, rude,, always, advertise..., ya, eat...]                                                                                                                                                                                                                                                                 |(262144,[2396,5381,22346,79779,81867,95840,102084,121517,128409,132270,138245,138954,146139,148675,164247,170186,197438,205601,234744,235375,242833,249180],[1.0,1.0,1.0,1.0,1.0,1.0,1.0,1.0,1.0,1.0,1.0,1.0,1.0,1.0,1.0,1.0,1.0,1.0,1.0,1.0,1.0,33.0])                                                                                                                                                                                                                                                                                                                                                      |\n",
            "+-----+---------------------------------------------------------------------------------------------------------------------------------------------------------------------------------------------------------------------------------------------------------------------------------------------------------------------------------------------------------------------------------------------------------------------------------------------------------------------------------------------------+-------------------------------------------------------------------------------------------------------------------------------------------------------------------------------------------------------------------------------------------------------------------------------------------------------------------------------------------------------------------------------------------------------------------------------------------------------------------------------------------------------------------------------------------------------------------------------------------------------------+\n",
            "only showing top 2 rows\n",
            "\n"
          ]
        }
      ]
    },
    {
      "cell_type": "markdown",
      "source": [
        "Predict testing data and calculate the accuracy model"
      ],
      "metadata": {
        "id": "1_Fxr5muX7jd"
      }
    },
    {
      "cell_type": "code",
      "source": [
        "prediction = model.transform(numericTest)\n",
        "predictionFinal = prediction.select(\n",
        "    \"MeaningfulWords\", \"prediction\", \"Label\")\n",
        "predictionFinal.show(n=4, truncate = False)\n",
        "correctPrediction = predictionFinal.filter(\n",
        "    predictionFinal['prediction'] == predictionFinal['Label']).count()\n",
        "totalData = predictionFinal.count()\n",
        "print(\"correct prediction:\", correctPrediction, \", total data:\", totalData, \n",
        "      \", accuracy:\", correctPrediction/totalData)"
      ],
      "metadata": {
        "id": "jF6sBxP3Eyjn",
        "colab": {
          "base_uri": "https://localhost:8080/"
        },
        "outputId": "202428a2-42d7-4700-db58-e55bc2c2fd7c"
      },
      "execution_count": 45,
      "outputs": [
        {
          "output_type": "stream",
          "name": "stdout",
          "text": [
            "+---------------------------------------------------------------------------------------------------------------------------------------------------------------------------------------------------------------------------------------------------------------------------------------------------------------------------------------------------------------------------------------------------------------------------------------------------------------------------------------------------+----------+-----+\n",
            "|MeaningfulWords                                                                                                                                                                                                                                                                                                                                                                                                                                                                                    |prediction|Label|\n",
            "+---------------------------------------------------------------------------------------------------------------------------------------------------------------------------------------------------------------------------------------------------------------------------------------------------------------------------------------------------------------------------------------------------------------------------------------------------------------------------------------------------+----------+-----+\n",
            "|[!!!!!!!, avoid, cost!!!!!, rude,, lazy, ignorant, assistant, manager!, apparently, tell, difference, pork, turkey, cheese, cheese., screw, deliver, correct, one, home, even, 1.36, miles, away., fualt, incompetent, staff/, self, put, sandwich, together, accordance, receipt, front, their/, eye's., wife, went, back, fix, order, rude, point, hostility., trainee, apologized, mistake....., trainee...., kidding, me., top, still, screwed, order, called, fix, still, cheese., morons!!!!]|0.0       |0    |\n",
            "|[!!!!!!!!!update, !!!!!!!!, , , went, back, alot, better, last, time.., , , , , , , , , , , , , , , , , , , , , , , , , , , , , , , , that,, go, time, time,, prices, good,, staff, nice, rude,, always, advertise..., ya, eat...]                                                                                                                                                                                                                                                                 |1.0       |1    |\n",
            "|[!muy, delicioso!, eat, tacos, gordos, every, night, could!, al, pastor, flagship, best., margaritas, horchata, amazing., like, retained, character, qualities, old, beverage, redemption, corner, store., important, honor, one, heritage., souls, tortillairia, side, wall, make, best, tortillas, vermont., vermont, lacking, souls, started, mad, river, valley,, taco, gordo, started, church, street, food, cart., glad, found, homes, burlington's, old, north, end.]                       |1.0       |1    |\n",
            "|[\"\"\", delicious, \"\"\"]                                                                                                                                                                                                                                                                                                                                                                                                                                                                              |1.0       |1    |\n",
            "+---------------------------------------------------------------------------------------------------------------------------------------------------------------------------------------------------------------------------------------------------------------------------------------------------------------------------------------------------------------------------------------------------------------------------------------------------------------------------------------------------+----------+-----+\n",
            "only showing top 4 rows\n",
            "\n",
            "correct prediction: 5142008 , total data: 5926362 , accuracy: 0.8676500018054921\n"
          ]
        }
      ]
    }
  ]
}